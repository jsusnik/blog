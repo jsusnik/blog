{
 "cells": [
  {
   "cell_type": "markdown",
   "id": "59d2f9a8-1527-4e39-876f-d9a13e4e20e6",
   "metadata": {},
   "source": [
    "# A Personal Introduction: \n",
    "# Convolutional Neural Networks (CNN)\n",
    "###### John Susnik - October 7, 2021\n",
    "\n",
    "##### Tags: Convolutional Neural Networks (CNN), Image Recognition, Layering, Beginner\n",
    "\n",
    "### Brief Introduction:\n",
    "\n",
    "I am writing this blog to try and explain something I recently learned - and that I honestly may not fully understand, but this is my best attempt at explaining (in “layman's terms”) what a neural network is (more specifically: a convolutional neural network). I will try to keep the article light and casual.\n",
    "\n",
    "### Convolutional Neural Networks - What are they?\n",
    "\n",
    "I just recently learned what neural networks are (3 days ago as of writing this), and some of their general uses. \n",
    "\n",
    "As a very brief introduction, Convolutional Neural Networks, or CNNs,  are most commonly used for analyzing visual imagery. They are structured as a pattern of convolutional layers and pooling layers, usually followed by a flatten layer, and one (or sometimes more) dense layers.\n",
    "\n",
    "This part can be confusing.\n",
    "\n",
    "At this point I would like to take a step back and describe (in general terms) what these layers are doing. You can think of this process as a way for a computer to “visually” identify what pictures are. I put “visually” in quotations because one aspect of neural networks is that they are widely perceived as a “black box”, where the “purpose” of each layer is hard to conceptualize. \n",
    "\n",
    "![Typical CNN](data/Typical_cnn.png) \n",
    "\n",
    "Imagine you were handed an amazing painting but you could only look at it through a magnifying glas, and your vision was limited to a very small window at a time. You would have to physically scan over the picture to try and understand what the \"big picture\" is, and may even get frustrated at the thought of doing this. When you ask a computer (or in this case a CNN) to \"describe\" an image, it processes this image by scanning the pixels of the image (a very small window, i.e. the magnifying glass). \n",
    "\n",
    "Now I mentioned above that a person may get frustrated at the thought of inspecting a potentially large painting with a magnifying glass, and not being able to take a step back and look at the entire picture at once. This is where the CNN has an advantage, it can not only remember what each pixel looks like, but as the CNN is taking in the information from each pixel, it's learning about the image as well. \n",
    "\n",
    "In the same way that a human would take notes while inspecting a painting, such as:\n",
    "- the color\n",
    "- the texture\n",
    "- the lines\n",
    "- the brushwork\n",
    "- any other artistic feature\n",
    "- maybe you even want to record the time of day for each pixel as you inspect it\n",
    "- maybe you want to record the temperature of the room as well\n",
    "- maybe this window is your favorite, but you're not even sure why\n",
    "\n",
    "A CNN is doing the same thing, but in a different language. A CNN disects the image into multiple layers of numbers which are seemingly meaningless to us humans to understand - similar to how hard it would be for a human to explain to a computer how to \"feel happy\". \n",
    "\n",
    "\n",
    "\n",
    "Each pixel then gets characterized by each layer - this characterization is hard to conceptualize, but the computer is essentially describing each pixel, based on its relationship to the pixels in its surrounding area. \n",
    "\n",
    " \n",
    "\n",
    "The big advantage is that the computer has a perfect memory and can hold this information. \n",
    "\n",
    "\n",
    "\n",
    "\n",
    "### Closing Statement\n",
    "\n",
    "I am continuing to read about CNNs and how these layers are constructed because I believe there has to be some additional explanation for why certain layering architectures perform better than others.\n",
    "\n"
   ]
  },
  {
   "cell_type": "code",
   "execution_count": null,
   "id": "3aa68109-cbe2-495c-8dd8-debf27800c9d",
   "metadata": {},
   "outputs": [],
   "source": []
  }
 ],
 "metadata": {
  "kernelspec": {
   "display_name": "Python [conda env:py36]",
   "language": "python",
   "name": "conda-env-py36-py"
  },
  "language_info": {
   "codemirror_mode": {
    "name": "ipython",
    "version": 3
   },
   "file_extension": ".py",
   "mimetype": "text/x-python",
   "name": "python",
   "nbconvert_exporter": "python",
   "pygments_lexer": "ipython3",
   "version": "3.6.10"
  }
 },
 "nbformat": 4,
 "nbformat_minor": 5
}
